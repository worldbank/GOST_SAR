{
  "nbformat": 4,
  "nbformat_minor": 0,
  "metadata": {
    "colab": {
      "name": "WB_S2_flood_cloudmask.ipynb",
      "provenance": [],
      "toc_visible": true,
      "include_colab_link": true
    },
    "kernelspec": {
      "name": "python3",
      "display_name": "Python 3"
    }
  },
  "cells": [
    {
      "cell_type": "markdown",
      "metadata": {
        "id": "view-in-github",
        "colab_type": "text"
      },
      "source": [
        "<a href=\"https://colab.research.google.com/github/mdelgadoblasco/GOST_SAR/blob/master/Flood%20Analysis%20and%20Mapping/code/FloodMapping_MNDWI_S2_cloudmask_COLAB.ipynb\" target=\"_parent\"><img src=\"https://colab.research.google.com/assets/colab-badge.svg\" alt=\"Open In Colab\"/></a>"
      ]
    },
    {
      "cell_type": "markdown",
      "metadata": {
        "id": "Z-bgBtTW_HXT"
      },
      "source": [
        "# Script for Flood detection on cloud-masked Sentinel-2 data"
      ]
    },
    {
      "cell_type": "markdown",
      "metadata": {
        "id": "u3wiKH56_B92"
      },
      "source": [
        "*******************************************************************************************\n",
        "\n",
        "## Disclaimer\n",
        "This product has been derived automatically without validation data. All geographic information has limitations due to the scale, resolution, date and interpretation of the original source materials. No liability concerning the content or the use thereof is assumed by the producer.\n",
        "\n",
        "Script created by: Geospatial Operations Support Team, The World Bank, February 2021.\n",
        "*******************************************************************************************"
      ]
    },
    {
      "cell_type": "markdown",
      "metadata": {
        "id": "FwqtN1KDE37J"
      },
      "source": [
        "## Applied for South Sudan flood period June - December 2020\n",
        "\n",
        "More than 1 million people across half of South Sudan have been\n",
        "affected by devastating flooding since July 2020. In response to the\n",
        "floods, funding from the UN’s Central Emergency Response Fund\n",
        "(CERF) and the South Sudan Humanitarian Fund (SSHF) helped\n",
        "kickstart the humanitarian response to people’s needs. Combined,\n",
        "the two funds allocated nearly US \\$20 million to humanitarian\n",
        "partners to implement life-saving assistance to 360,000 most\n",
        "vulnerable people. The SSHF’s second Reserve Allocation provided\n",
        "\\$9.7 million for frontline response and prioritized life-saving assistance in the areas of food security and livelihoods, health, nutrition,\n",
        "protection, shelter and non-food items, and water, sanitation and\n",
        "hygiene. The CERF Rapid Response allocation of \\$9.7 million filled\n",
        "gaps in core humanitarian pipelines and enabled frontline responders\n",
        "to scale up assistance to people in need. The CERF also financed\n",
        "community-based initiatives aimed at reducing the impact of floods\n",
        "on communities, such as repairing broken dykes (source OCHA: https://reliefweb.int/sites/reliefweb.int/files/resources/ss_20201125_south_sudan_cerf_sshf_complementarities_floods.pdf )\n",
        "\n",
        "\n",
        "## Method Applied\n",
        "### Optical data dervied flood mapping using the Modified Normalized Difference Water Index approach\n",
        "This script also generates flood extent map using the Modified Normalised Difference Water Index\n",
        "  approach (MNDWI) similar to the one defined in Rokni et al (2014) https://doi:10.3390/rs6054173\n",
        "\n",
        "For that computation, initially performs a cloud mask using a cloud/shadow masking which requires much more processing resources/time compared to cloud mask using the bitmasks from Sentinel-2 Level-2 products, providing more accurate masks of clouds/shadows.\n"
      ]
    },
    {
      "cell_type": "code",
      "metadata": {
        "id": "qBMxK2DE4JOy"
      },
      "source": [
        "#############################################################\n",
        "# Connecting to Google Earth Engine\n",
        "#############################################################\n",
        "myproject='ee-josemanueldelgadoblasco'\n",
        "import ee\n",
        "# Trigger the authentication flow.\n",
        "ee.Authenticate()\n",
        "# Initialize the library.\n",
        "ee.Initialize(project=myproject)"
      ],
      "execution_count": 3,
      "outputs": []
    },
    {
      "cell_type": "code",
      "metadata": {
        "id": "p-9pU3eW4zga"
      },
      "source": [
        "#############################################################\n",
        "#            SELECT YOUR OWN STUDY AREA\n",
        "#############################################################\n",
        "# - The Area of Interest can be defined with the different methods:\n",
        "#   1) defining country name\n",
        "countryname='South Sudan';\n",
        "countries = ee.FeatureCollection('USDOS/LSIB_SIMPLE/2017');\n",
        "aoi = countries.filter(ee.Filter.eq('country_na', countryname));\n",
        "#   2) importing shapefile from Assets collection in GEE   (modify line below)\n",
        "#      aoi=ee.FeatureCollection(users/josemanueldelgadoblasco/Selected_AOI)\n",
        "AOI = ee.Geometry(aoi.geometry());\n",
        "\n",
        "#############################################################\n",
        "#           Defining flood period\n",
        "#############################################################\n",
        "# Flood start and end dates (YTYY-MM-DD format)\n",
        "START_DATE = '2020-06-01';\n",
        "END_DATE = '2020-12-31';\n",
        "\n",
        "#############################################################\n",
        "#           Defining water threshold applied to the MNDWI\n",
        "#############################################################\n",
        "# MNDWI Threshold  (all above that threshold will be considered as water)\n",
        "MNDWI_THRES=0.2"
      ],
      "execution_count": 5,
      "outputs": []
    },
    {
      "cell_type": "code",
      "metadata": {
        "id": "vUOlM6Q94bCQ"
      },
      "source": [
        "#@title Cloudmask functions definition\n",
        "#############################################################\n",
        "## Defining all functions\n",
        "###############################################################\n",
        "def get_s2_sr_cld_col(aoi, start_date, end_date):\n",
        "    # Import and filter S2 SR.\n",
        "    #s2_sr_col = (ee.ImageCollection('COPERNICUS/S2_SR') #deprecated\n",
        "    s2_sr_col = (ee.ImageCollection(\"COPERNICUS/S2_SR_HARMONIZED\")\n",
        "        .filterBounds(aoi)\n",
        "        .filterDate(start_date, end_date)\n",
        "        .filter(ee.Filter.lte('CLOUDY_PIXEL_PERCENTAGE', CLOUD_FILTER)))\n",
        "\n",
        "    # Import and filter s2cloudless.\n",
        "    s2_cloudless_col = (ee.ImageCollection('COPERNICUS/S2_CLOUD_PROBABILITY')\n",
        "        .filterBounds(aoi)\n",
        "        .filterDate(start_date, end_date))\n",
        "\n",
        "    # Join the filtered s2cloudless collection to the SR collection by the 'system:index' property.\n",
        "    return ee.ImageCollection(ee.Join.saveFirst('s2cloudless').apply(**{\n",
        "        'primary': s2_sr_col,\n",
        "        'secondary': s2_cloudless_col,\n",
        "        'condition': ee.Filter.equals(**{\n",
        "            'leftField': 'system:index',\n",
        "            'rightField': 'system:index'\n",
        "        })\n",
        "    }))\n",
        "\n",
        "def add_cloud_bands(img):\n",
        "    # Get s2cloudless image, subset the probability band.\n",
        "    cld_prb = ee.Image(img.get('s2cloudless')).select('probability')\n",
        "\n",
        "    # Condition s2cloudless by the probability threshold value.\n",
        "    is_cloud = cld_prb.gt(CLD_PRB_THRESH).rename('clouds')\n",
        "\n",
        "    # Add the cloud probability layer and cloud mask as image bands.\n",
        "    return img.addBands(ee.Image([cld_prb, is_cloud]))\n",
        "\n",
        "def add_shadow_bands(img):\n",
        "    # Identify water pixels from the SCL band.\n",
        "    not_water = img.select('SCL').neq(6)\n",
        "\n",
        "    # Identify dark NIR pixels that are not water (potential cloud shadow pixels).\n",
        "    SR_BAND_SCALE = 1e4\n",
        "    dark_pixels = img.select('B8').lt(NIR_DRK_THRESH*SR_BAND_SCALE).multiply(not_water).rename('dark_pixels')\n",
        "\n",
        "    # Determine the direction to project cloud shadow from clouds (assumes UTM projection).\n",
        "    shadow_azimuth = ee.Number(90).subtract(ee.Number(img.get('MEAN_SOLAR_AZIMUTH_ANGLE')));\n",
        "\n",
        "    # Project shadows from clouds for the distance specified by the CLD_PRJ_DIST input.\n",
        "    cld_proj = (img.select('clouds').directionalDistanceTransform(shadow_azimuth, CLD_PRJ_DIST*10)\n",
        "        .reproject(**{'crs': img.select(0).projection(), 'scale': 100})\n",
        "        .select('distance')\n",
        "        .mask()\n",
        "        .rename('cloud_transform'))\n",
        "\n",
        "    # Identify the intersection of dark pixels with cloud shadow projection.\n",
        "    shadows = cld_proj.multiply(dark_pixels).rename('shadows')\n",
        "\n",
        "    # Add dark pixels, cloud projection, and identified shadows as image bands.\n",
        "    return img.addBands(ee.Image([dark_pixels, cld_proj, shadows]))\n",
        "\n",
        "def add_cld_shdw_mask(img):\n",
        "    # Add cloud component bands.\n",
        "    img_cloud = add_cloud_bands(img)\n",
        "\n",
        "    # Add cloud shadow component bands.\n",
        "    img_cloud_shadow = add_shadow_bands(img_cloud)\n",
        "\n",
        "    # Combine cloud and shadow mask, set cloud and shadow as value 1, else 0.\n",
        "    is_cld_shdw = img_cloud_shadow.select('clouds').add(img_cloud_shadow.select('shadows')).gt(0)\n",
        "\n",
        "    # Remove small cloud-shadow patches and dilate remaining pixels by BUFFER input.\n",
        "    # 20 m scale is for speed, and assumes clouds don't require 10 m precision.\n",
        "    is_cld_shdw = (is_cld_shdw.focal_min(2).focal_max(BUFFER*2/20)\n",
        "        .reproject(**{'crs': img.select([0]).projection(), 'scale': 20})\n",
        "        .rename('cloudmask'))\n",
        "\n",
        "    # Add the final cloud-shadow mask to the image.\n",
        "    return img_cloud_shadow.addBands(is_cld_shdw)\n",
        "    #return img.addBands(is_cld_shdw)\n",
        "\n",
        "def apply_cld_shdw_mask(img):\n",
        "    # Subset the cloudmask band and invert it so clouds/shadow are 0, else 1.\n",
        "    not_cld_shdw = img.select('cloudmask').Not()\n",
        "\n",
        "    # Subset reflectance bands and update their masks, return the result.\n",
        "    return img.select('B.*').updateMask(not_cld_shdw)"
      ],
      "execution_count": 11,
      "outputs": []
    },
    {
      "cell_type": "code",
      "metadata": {
        "cellView": "form",
        "id": "tK1o1PDN4q3p"
      },
      "source": [
        "#@title cloudmask parameters definition\n",
        "#############################################################\n",
        "# parameters for cloudmask algorithm\n",
        "#############################################################\n",
        "CLOUD_FILTER = 80\n",
        "CLD_PRB_THRESH = 40\n",
        "NIR_DRK_THRESH = 0.15\n",
        "CLD_PRJ_DIST = 2\n",
        "BUFFER = 100"
      ],
      "execution_count": 12,
      "outputs": []
    },
    {
      "cell_type": "code",
      "metadata": {
        "id": "9SF5MEmJ49lF"
      },
      "source": [
        "#####################################################################################\n",
        "## Computing maps for S2\n",
        "\n",
        "s2_sr_cld_col = get_s2_sr_cld_col(AOI, START_DATE, END_DATE)\n",
        "s2_sr_median = (s2_sr_cld_col.map(add_cld_shdw_mask)\n",
        "                             .map(apply_cld_shdw_mask)\n",
        "                             .median())\n",
        "b3_sr_median = (s2_sr_cld_col.map(add_cld_shdw_mask)\n",
        "                              .map(apply_cld_shdw_mask)\n",
        "                              .select(['B3']).median())\n",
        "b11_p10 = (s2_sr_cld_col.map(add_cld_shdw_mask)\n",
        "                              .map(apply_cld_shdw_mask)\n",
        "                              .select('B11').reduce(ee.Reducer.percentile([10])).rename('B11'))\n",
        "mndwi = (b3_sr_median.subtract(b11_p10)).divide(b3_sr_median.add(b11_p10))\n",
        "\n",
        "#####################################################################################\n",
        "# Estimate flood classifying mndwi map usig threshold\n",
        "flood=mndwi.gt(MNDWI_THRES)\n",
        "\n",
        "#####################################################################################\n",
        "## Filtering / Refining based on permanent water layer, slope and connectivity\n",
        "#####################################################################################\n",
        "\n",
        "#swater = ee.Image('JRC/GSW1_0/GlobalSurfaceWater') #deprecated\n",
        "swater = ee.Image(\"JRC/GSW1_4/GlobalSurfaceWater\").select('seasonality');\n",
        "swater_mask = swater.gte(10).updateMask(swater.gte(10));\n",
        "flooded_mask = flood.where(swater_mask,0);\n",
        "flooded = flooded_mask.updateMask(flooded_mask);\n",
        "#//// This operation reduces noise of the flood extent product\n",
        "connections = flooded.connectedPixelCount();\n",
        "flooded = flooded.updateMask(connections.gte(8));\n",
        "# Mask out areas with more than 5 percent slope using a Digital Elevation Model\n",
        "DEM = ee.Image('WWF/HydroSHEDS/03VFDEM');\n",
        "terrain = ee.Algorithms.Terrain(DEM);\n",
        "slope = terrain.select('slope');\n",
        "\n",
        "## Final layer to export\n",
        "flooded = flooded.updateMask(slope.lt(5));"
      ],
      "execution_count": 13,
      "outputs": []
    },
    {
      "cell_type": "code",
      "metadata": {
        "id": "P0gwT6DL93ZV",
        "outputId": "020fb78b-c917-4c08-b261-baf21655cd1c",
        "colab": {
          "base_uri": "https://localhost:8080/"
        }
      },
      "source": [
        "#@title Exporting flood map to Google Drive\n",
        "# Export to Drive\n",
        "task = ee.batch.Export.image.toDrive(**{\n",
        "    'image': flooded,\n",
        "    'description': 'SouthSudan_flood_S2',\n",
        "    'folder':'WB_SouthSudan_S2',\n",
        "    'scale': 20,\n",
        "    'region': AOI.getInfo()['coordinates'],\n",
        "    'maxPixels': 1e12\n",
        "})\n",
        "task.start()\n",
        "print('Task export launched...')"
      ],
      "execution_count": 14,
      "outputs": [
        {
          "output_type": "stream",
          "name": "stdout",
          "text": [
            "Task export launched...\n"
          ]
        }
      ]
    }
  ]
}